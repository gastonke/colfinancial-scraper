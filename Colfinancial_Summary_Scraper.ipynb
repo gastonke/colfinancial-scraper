{
 "cells": [
  {
   "cell_type": "markdown",
   "id": "8eb82098",
   "metadata": {},
   "source": [
    "# Import Required Libraries"
   ]
  },
  {
   "cell_type": "code",
   "execution_count": null,
   "id": "68004a97",
   "metadata": {},
   "outputs": [],
   "source": [
    "import os\n",
    "import time\n",
    "import selenium\n",
    "import pandas as pd\n",
    "from selenium import webdriver\n",
    "from webdriver_manager.chrome import ChromeDriverManager\n",
    "from selenium.common.exceptions import ElementClickInterceptedException\n",
    "from selenium.webdriver.support.ui import WebDriverWait\n",
    "from selenium.webdriver.support import expected_conditions as EC\n",
    "from selenium.common.exceptions import TimeoutException"
   ]
  },
  {
   "cell_type": "markdown",
   "id": "f7fccf01",
   "metadata": {},
   "source": [
    "# Create Function for Scraping Account Summary and Portfolio Details"
   ]
  },
  {
   "cell_type": "code",
   "execution_count": null,
   "id": "25e4d732",
   "metadata": {},
   "outputs": [],
   "source": [
    "def colfinancial_account_info(userkey1,userkey2,password):\n",
    "    op = webdriver.ChromeOptions()\n",
    "    op.add_argument('headless')\n",
    "    driver = webdriver.Chrome(ChromeDriverManager().install(),options=op)\n",
    "    url = \"https://www.colfinancial.com/ape/Final2/home/HOME_NL_MAIN.asp?p=0\"\n",
    "    driver.get(url)\n",
    "    time.sleep(3)\n",
    "    username1 = driver.find_element_by_name(\"txtUser1\")\n",
    "    username2 = driver.find_element_by_name(\"txtUser2\")\n",
    "    pw = driver.find_element_by_name(\"txtPassword\")\n",
    "    username1.send_keys(userkey1)\n",
    "    username2.send_keys(userkey2)\n",
    "    pw.send_keys(password)\n",
    "    \n",
    "    driver.find_element_by_xpath(\"//*[@id='login']/div/input[10]\").click()\n",
    "    time.sleep(5)\n",
    "    try:\n",
    "        WebDriverWait(driver, 3).until(EC.alert_is_present(),\n",
    "                                       'Timed out waiting for PA creation ' +\n",
    "                                       'confirmation popup to appear.')\n",
    "\n",
    "        alert = driver.switch_to.alert\n",
    "        alert.accept()\n",
    "        print(\"password change alert encountered...\")\n",
    "        print(\"password change alert accepted\")\n",
    "    except TimeoutException:\n",
    "        print(\"no password change alert\")\n",
    "\n",
    "    driver.switch_to.frame(\"headern\")\n",
    "    driver.find_element_by_xpath(\"//*[@id='CT']/a\").click()\n",
    "    time.sleep(5)\n",
    "    driver.find_element_by_xpath(\"//*[@id='L1_3_4']/a\").click()\n",
    "    time.sleep(5)\n",
    "    driver.switch_to.parent_frame()\n",
    "    driver.switch_to.frame(\"main\")\n",
    "    cash_balance = driver.find_element_by_xpath(\"//table[1]/tbody/tr[3]/td[2]\")\n",
    "    cash_balance = float(cash_balance.text.replace(',', ''))\n",
    "    total_account_value = driver.find_element_by_xpath(\"//table/tbody/tr/td/p[1]/font[2]/strong\")\n",
    "    total_account_value = float(total_account_value.text.replace(',', ''))\n",
    "    portfolio_table = driver.find_element_by_xpath(\"//html/body/div[2]/table/tbody/tr/td/table[2]/tbody/tr[3]/td\")\n",
    "    table = pd.read_html(portfolio_table.get_attribute(\"innerHTML\"))[0]\n",
    "    table = table.iloc[1:,1:-1]\n",
    "    table = table[~table[1].isin(['TOTAL MUTUAL FUNDS','TOTAL MUTUAL FUNDS GAIN/LOSS','NaN','Fund Code','MUTUAL FUNDS'])]\n",
    "    table = table.dropna()\n",
    "    equity_portfolio = table[~table[1].isin(['TOTAL EQUITIES','TOTAL EQUITIES GAIN/LOSS','TOTAL PORTFOLIO TRADE VALUE:','DAY CHANGE:','PORTFOLIO GAIN/LOSS:'])]\n",
    "    summary_table = table.drop(equity_portfolio.index, axis=0)\n",
    "    summary_table = summary_table.iloc[:,6:8]\n",
    "    summary_table.columns = ['Item', 'Value']\n",
    "    equity_portfolio.columns = equity_portfolio.iloc[0]\n",
    "    equity_portfolio = equity_portfolio[1:]\n",
    "    summary_table.index = summary_table['Item'] \n",
    "    summary_table= summary_table.iloc[:,1:]\n",
    "    summary_table['Value'] = summary_table['Value'].str.replace(\"%\",\"\", regex=True).astype(float)\n",
    "    total_equity_portfolio_value = summary_table.loc['TOTAL EQUITIES']['Value']\n",
    "    driver.quit()\n",
    "    return equity_portfolio, cash_balance, total_equity_portfolio_value, total_account_value\n",
    "    \n",
    "    "
   ]
  },
  {
   "cell_type": "markdown",
   "id": "cea0f259",
   "metadata": {},
   "source": [
    "# Retrieve Our Account Summary"
   ]
  },
  {
   "cell_type": "code",
   "execution_count": null,
   "id": "928e7623",
   "metadata": {},
   "outputs": [],
   "source": [
    "userkey1 = 'XXXX'    # Input the first 4 digit of your 8-digit User ID\n",
    "userkey2 = 'XXXX'    # Input the first 4 digit of your 8-digit User ID\n",
    "password = \"XXXXXXXXXX\"    # Input your password\n",
    "portfolio_df, cash, equity, total = colfinancial_account_info(userkey1,userkey2,password)"
   ]
  },
  {
   "cell_type": "markdown",
   "id": "28fc1f51",
   "metadata": {},
   "source": [
    "# Print Account Summary"
   ]
  },
  {
   "cell_type": "code",
   "execution_count": null,
   "id": "730f4b24",
   "metadata": {},
   "outputs": [],
   "source": [
    "print(\"Cash Balance: {}\".format(cash))\n",
    "print(\"Equity Portfolio Value: {}\".format(equity))\n",
    "print(\"Total Account Balance: {}\".format(total))"
   ]
  },
  {
   "cell_type": "markdown",
   "id": "658eef98",
   "metadata": {},
   "source": [
    "# Print Out Equity Portfolio Details"
   ]
  },
  {
   "cell_type": "code",
   "execution_count": null,
   "id": "818103c3",
   "metadata": {},
   "outputs": [],
   "source": [
    "portfolio_df"
   ]
  }
 ],
 "metadata": {
  "kernelspec": {
   "display_name": "Python 3 (ipykernel)",
   "language": "python",
   "name": "python3"
  },
  "language_info": {
   "codemirror_mode": {
    "name": "ipython",
    "version": 3
   },
   "file_extension": ".py",
   "mimetype": "text/x-python",
   "name": "python",
   "nbconvert_exporter": "python",
   "pygments_lexer": "ipython3",
   "version": "3.9.13"
  }
 },
 "nbformat": 4,
 "nbformat_minor": 5
}
